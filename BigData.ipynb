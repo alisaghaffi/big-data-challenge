{
  "nbformat": 4,
  "nbformat_minor": 0,
  "metadata": {
    "colab": {
      "name": "BigData.ipynb",
      "provenance": [],
      "collapsed_sections": [],
      "authorship_tag": "ABX9TyMT/yDvLM3vFxVPKYpzI7Vt",
      "include_colab_link": true
    },
    "kernelspec": {
      "name": "python3",
      "display_name": "Python 3"
    },
    "language_info": {
      "name": "python"
    }
  },
  "cells": [
    {
      "cell_type": "markdown",
      "metadata": {
        "id": "view-in-github",
        "colab_type": "text"
      },
      "source": [
        "<a href=\"https://colab.research.google.com/github/alisaghaffi/big-data-challenge/blob/main/BigData.ipynb\" target=\"_parent\"><img src=\"https://colab.research.google.com/assets/colab-badge.svg\" alt=\"Open In Colab\"/></a>"
      ]
    },
    {
      "cell_type": "code",
      "execution_count": 58,
      "metadata": {
        "colab": {
          "base_uri": "https://localhost:8080/"
        },
        "id": "KEwXrlOV8zy5",
        "outputId": "35224f18-93e4-465b-a98d-80795d0745f3"
      },
      "outputs": [
        {
          "output_type": "stream",
          "name": "stdout",
          "text": [
            "\r0% [Working]\r            \rHit:1 https://cloud.r-project.org/bin/linux/ubuntu bionic-cran40/ InRelease\n",
            "\r0% [Connecting to archive.ubuntu.com] [Connecting to security.ubuntu.com (185.1\r0% [1 InRelease gpgv 3,626 B] [Connecting to archive.ubuntu.com] [Connecting to\r                                                                               \rIgn:2 https://developer.download.nvidia.com/compute/machine-learning/repos/ubuntu1804/x86_64  InRelease\n",
            "\r0% [1 InRelease gpgv 3,626 B] [Connecting to archive.ubuntu.com] [Connecting to\r                                                                               \rHit:3 https://developer.download.nvidia.com/compute/cuda/repos/ubuntu1804/x86_64  InRelease\n",
            "Hit:4 https://developer.download.nvidia.com/compute/machine-learning/repos/ubuntu1804/x86_64  Release\n",
            "Get:5 http://security.ubuntu.com/ubuntu bionic-security InRelease [88.7 kB]\n",
            "Hit:6 http://ppa.launchpad.net/c2d4u.team/c2d4u4.0+/ubuntu bionic InRelease\n",
            "Hit:7 http://archive.ubuntu.com/ubuntu bionic InRelease\n",
            "Get:8 http://archive.ubuntu.com/ubuntu bionic-updates InRelease [88.7 kB]\n",
            "Hit:9 http://ppa.launchpad.net/cran/libgit2/ubuntu bionic InRelease\n",
            "Hit:11 http://ppa.launchpad.net/deadsnakes/ppa/ubuntu bionic InRelease\n",
            "Get:12 http://archive.ubuntu.com/ubuntu bionic-backports InRelease [74.6 kB]\n",
            "Hit:13 http://ppa.launchpad.net/graphics-drivers/ppa/ubuntu bionic InRelease\n",
            "Fetched 252 kB in 2s (108 kB/s)\n",
            "Reading package lists... Done\n",
            "--2022-08-30 21:49:48--  https://jdbc.postgresql.org/download/postgresql-42.2.9.jar\n",
            "Resolving jdbc.postgresql.org (jdbc.postgresql.org)... 72.32.157.228, 2001:4800:3e1:1::228\n",
            "Connecting to jdbc.postgresql.org (jdbc.postgresql.org)|72.32.157.228|:443... connected.\n",
            "HTTP request sent, awaiting response... 200 OK\n",
            "Length: 914037 (893K) [application/java-archive]\n",
            "Saving to: ‘postgresql-42.2.9.jar.4’\n",
            "\n",
            "postgresql-42.2.9.j 100%[===================>] 892.61K  4.55MB/s    in 0.2s    \n",
            "\n",
            "2022-08-30 21:49:48 (4.55 MB/s) - ‘postgresql-42.2.9.jar.4’ saved [914037/914037]\n",
            "\n"
          ]
        }
      ],
      "source": [
        "# import dependencies\n",
        "import os\n",
        "spark_version = 'spark-3.1.3'\n",
        "os.environ['SPARK_VERSION']=spark_version\n",
        "\n",
        "# Install Spark and Java\n",
        "!apt-get update\n",
        "!apt-get install openjdk-11-jdk-headless -qq > /dev/null\n",
        "!wget -q https://downloads.apache.org/spark/$SPARK_VERSION/$SPARK_VERSION-bin-hadoop2.7.tgz\n",
        "!tar xf $SPARK_VERSION-bin-hadoop2.7.tgz\n",
        "!pip install -q findspark\n",
        "\n",
        "# Set Environment Variables\n",
        "import os\n",
        "os.environ[\"JAVA_HOME\"] = \"/usr/lib/jvm/java-11-openjdk-amd64\"\n",
        "os.environ[\"SPARK_HOME\"] = f\"/content/{spark_version}-bin-hadoop2.7\"\n",
        "\n",
        "# Start a SparkSession\n",
        "import findspark\n",
        "findspark.init()\n",
        "!wget https://jdbc.postgresql.org/download/postgresql-42.2.9.jar\n"
      ]
    },
    {
      "cell_type": "code",
      "source": [
        "from pyspark.sql import SparkSession\n",
        "spark = SparkSession.builder.appName(\"CloudETL\").config(\"spark.driver.extraClassPath\",\"/content/postgresql-42.2.9.jar\").getOrCreate()"
      ],
      "metadata": {
        "id": "z_ZxzyEk5lkx"
      },
      "execution_count": 59,
      "outputs": []
    },
    {
      "cell_type": "code",
      "source": [
        " # Read in data from S3 Buckets\n",
        "from pyspark import SparkFiles\n",
        "\n",
        "url = \"https://alibigdata.s3.us-west-1.amazonaws.com/Reviews.csv\"\n",
        "spark.sparkContext.addFile(url)\n",
        "df = spark.read.csv(SparkFiles.get(\"Reviews.csv\"), sep=\",\", header=True, inferSchema=True)\n",
        "\n",
        "# Show DataFrame\n",
        "df.show(10)"
      ],
      "metadata": {
        "colab": {
          "base_uri": "https://localhost:8080/"
        },
        "id": "czrvSKRx9toA",
        "outputId": "0f772ed0-7d73-4167-e84d-7a63eeaab9da"
      },
      "execution_count": 105,
      "outputs": [
        {
          "output_type": "stream",
          "name": "stdout",
          "text": [
            "+---+----------+--------------+--------------------+--------------------+----------------------+-----+----------+--------------------+--------------------+\n",
            "| Id| ProductId|        UserId|         ProfileName|HelpfulnessNumerator|HelpfulnessDenominator|Score|      Time|             Summary|                Text|\n",
            "+---+----------+--------------+--------------------+--------------------+----------------------+-----+----------+--------------------+--------------------+\n",
            "|  1|B001E4KFG0|A3SGXH7AUHU8GW|          delmartian|                   1|                     1|    5|1303862400|Good Quality Dog ...|I have bought sev...|\n",
            "|  2|B00813GRG4|A1D87F6ZCVE5NK|              dll pa|                   0|                     0|    1|1346976000|   Not as Advertised|\"Product arrived ...|\n",
            "|  3|B000LQOCH0| ABXLMWJIXXAIN|\"Natalia Corres \"...|                   1|                     1|    4|1219017600|\"\"\"Delight\"\" says...|\"This is a confec...|\n",
            "|  4|B000UA0QIQ|A395BORC6FGVXV|                Karl|                   3|                     3|    2|1307923200|      Cough Medicine|If you are lookin...|\n",
            "|  5|B006K2ZZ7K|A1UQRSCLF8GW1T|\"Michael D. Bigha...|                   0|                     0|    5|1350777600|         Great taffy|Great taffy at a ...|\n",
            "|  6|B006K2ZZ7K| ADT0SRK1MGOEU|      Twoapennything|                   0|                     0|    4|1342051200|          Nice Taffy|I got a wild hair...|\n",
            "|  7|B006K2ZZ7K|A1SP2KVKFXXRU1|   David C. Sullivan|                   0|                     0|    5|1340150400|Great!  Just as g...|This saltwater ta...|\n",
            "|  8|B006K2ZZ7K|A3JRGQVEQN31IQ|  Pamela G. Williams|                   0|                     0|    5|1336003200|Wonderful, tasty ...|This taffy is so ...|\n",
            "|  9|B000E7L2R4|A1MZYO9TZK0BBI|            R. James|                   1|                     1|    5|1322006400|          Yay Barley|Right now I'm mos...|\n",
            "| 10|B00171APVA|A21BT40VZCCYT4|       Carol A. Reed|                   0|                     0|    5|1351209600|    Healthy Dog Food|This is a very he...|\n",
            "+---+----------+--------------+--------------------+--------------------+----------------------+-----+----------+--------------------+--------------------+\n",
            "only showing top 10 rows\n",
            "\n"
          ]
        }
      ]
    },
    {
      "cell_type": "code",
      "source": [
        "#   * Count the number of records (rows) in the dataset.\n",
        "df.dropna()\n",
        "df.count()"
      ],
      "metadata": {
        "colab": {
          "base_uri": "https://localhost:8080/"
        },
        "id": "LMayki0ZIbkR",
        "outputId": "693a319d-1bd3-430d-a405-272e27acacd2"
      },
      "execution_count": 106,
      "outputs": [
        {
          "output_type": "execute_result",
          "data": {
            "text/plain": [
              "568454"
            ]
          },
          "metadata": {},
          "execution_count": 106
        }
      ]
    },
    {
      "cell_type": "code",
      "source": [
        "\n",
        "df.printSchema()"
      ],
      "metadata": {
        "colab": {
          "base_uri": "https://localhost:8080/"
        },
        "id": "2x41QVN_Ikik",
        "outputId": "a94d6f6b-9e05-4e6e-db4d-17c4e5626f1e"
      },
      "execution_count": 107,
      "outputs": [
        {
          "output_type": "stream",
          "name": "stdout",
          "text": [
            "root\n",
            " |-- Id: integer (nullable = true)\n",
            " |-- ProductId: string (nullable = true)\n",
            " |-- UserId: string (nullable = true)\n",
            " |-- ProfileName: string (nullable = true)\n",
            " |-- HelpfulnessNumerator: string (nullable = true)\n",
            " |-- HelpfulnessDenominator: string (nullable = true)\n",
            " |-- Score: string (nullable = true)\n",
            " |-- Time: string (nullable = true)\n",
            " |-- Summary: string (nullable = true)\n",
            " |-- Text: string (nullable = true)\n",
            "\n"
          ]
        }
      ]
    },
    {
      "cell_type": "code",
      "source": [
        "#   * **Transform** the dataset to fit the tables in the [schema file](../Resources/schema.sql). \n",
        "# Be sure the DataFrames match in data type and in column name.\n",
        "#schema_df = df.select([\"Id\", \"ProductId\", \"UserId\", \"ProfileName\",\"HelpfulnessNumerator\",\"HelpfulnessDenominator\", \"Score\",\"Time\", \"Summary\" ,\"Text\"])\n",
        "#schema_df = schema_df.dropDuplicates([\"ProductId\"])\n",
        "#schema_df.head()"
      ],
      "metadata": {
        "colab": {
          "base_uri": "https://localhost:8080/"
        },
        "id": "vjmC1JJdIpoa",
        "outputId": "ce458334-7bcf-4e6e-d415-93e48e8e27f7"
      },
      "execution_count": 54,
      "outputs": [
        {
          "output_type": "execute_result",
          "data": {
            "text/plain": [
              "Row(Id=512509, ProductId='B00008DFTP', UserId='A1B6JV6UGVLMTT', ProfileName='Jebby', HelpfulnessNumerator='2', HelpfulnessDenominator='2', Score='5', Time='1319241600', Summary='Great Value', Text='My dog loves this food.  He was previously eating Iams, which I did like, but it became hard to find.  So, i switched to this.  I think it makes his coat nicer than the Iams.  This is a tremendous value for this brand.  It is pricier in the store.')"
            ]
          },
          "metadata": {},
          "execution_count": 54
        }
      ]
    },
    {
      "cell_type": "code",
      "source": [
        "# Changing datatypes\n",
        "# Source Link: https://stackoverflow.com/questions/32284620/how-to-change-a-dataframe-column-from-string-type-to-double-type-in-pyspark\n",
        "\n",
        "from pyspark.sql.types import TimestampType, IntegerType\n",
        "\n",
        "df = df.withColumn(\"customer_id\", df[\"UserId\"].cast(IntegerType()))\\\n",
        "       .withColumn(\"product_parent\", df[\"ProductId\"].cast(IntegerType()))\\\n",
        "       .withColumn(\"review_date\", df[\"Time\"].cast(TimestampType()))\\\n",
        "       .withColumn(\"star_rating\", df[\"Score\"].cast(IntegerType()))\\\n",
        "       .withColumn(\"helpful_votes\", df[\"HelpfulnessNumerator\"].cast(IntegerType()))\\\n",
        "      .withColumn(\"total_votes\", df[\"HelpfulnessDenominator\"].cast(IntegerType()))\\\n",
        "\n",
        "# Print schema\n",
        "df.printSchema()"
      ],
      "metadata": {
        "colab": {
          "base_uri": "https://localhost:8080/"
        },
        "id": "ESVWGIbcq7I2",
        "outputId": "98de4e10-df15-4580-a5f0-ec64952a20a7"
      },
      "execution_count": 110,
      "outputs": [
        {
          "output_type": "stream",
          "name": "stdout",
          "text": [
            "root\n",
            " |-- Id: integer (nullable = true)\n",
            " |-- ProductId: string (nullable = true)\n",
            " |-- UserId: string (nullable = true)\n",
            " |-- ProfileName: string (nullable = true)\n",
            " |-- HelpfulnessNumerator: string (nullable = true)\n",
            " |-- HelpfulnessDenominator: string (nullable = true)\n",
            " |-- Score: string (nullable = true)\n",
            " |-- Time: string (nullable = true)\n",
            " |-- Summary: string (nullable = true)\n",
            " |-- Text: string (nullable = true)\n",
            " |-- customer_id: integer (nullable = true)\n",
            " |-- product_parent: integer (nullable = true)\n",
            " |-- review_date: timestamp (nullable = true)\n",
            " |-- star_rating: integer (nullable = true)\n",
            " |-- helpful_votes: integer (nullable = true)\n",
            " |-- total_votes: integer (nullable = true)\n",
            "\n"
          ]
        }
      ]
    },
    {
      "cell_type": "code",
      "source": [
        "# Create review dataframe to match review_id_table table\n",
        "review_id_df = df.select([\"Id\",\"ProfileName\",\"ProductId\", \"helpful_votes\",\"Time\"])\n",
        "review_id_df.show()"
      ],
      "metadata": {
        "colab": {
          "base_uri": "https://localhost:8080/"
        },
        "id": "EzLW2Qd_rzGF",
        "outputId": "7fd5cfe3-430d-490a-e3a6-91997760bbe5"
      },
      "execution_count": 81,
      "outputs": [
        {
          "output_type": "stream",
          "name": "stdout",
          "text": [
            "+---+--------------------+----------+-------------+----------+\n",
            "| Id|         ProfileName| ProductId|helpful_votes|      Time|\n",
            "+---+--------------------+----------+-------------+----------+\n",
            "|  1|          delmartian|B001E4KFG0|            1|1303862400|\n",
            "|  2|              dll pa|B00813GRG4|            0|1346976000|\n",
            "|  3|\"Natalia Corres \"...|B000LQOCH0|            1|1219017600|\n",
            "|  4|                Karl|B000UA0QIQ|            3|1307923200|\n",
            "|  5|\"Michael D. Bigha...|B006K2ZZ7K|            0|1350777600|\n",
            "|  6|      Twoapennything|B006K2ZZ7K|            0|1342051200|\n",
            "|  7|   David C. Sullivan|B006K2ZZ7K|            0|1340150400|\n",
            "|  8|  Pamela G. Williams|B006K2ZZ7K|            0|1336003200|\n",
            "|  9|            R. James|B000E7L2R4|            1|1322006400|\n",
            "| 10|       Carol A. Reed|B00171APVA|            0|1351209600|\n",
            "| 11|        Canadian Fan|B0001PB9FE|            1|1107820800|\n",
            "| 12|\"A Poeng \"\"Sparky...|B0009XLVG0|            4|1282867200|\n",
            "| 13|                  LT|B0009XLVG0|            1|1339545600|\n",
            "| 14| \"willie \"\"roadie\"\"\"|B001GVISJM|            2|1288915200|\n",
            "| 15|\"Lynrie \"\"Oh HELL...|B001GVISJM|            4|1268352000|\n",
            "| 16|        Brian A. Lee|B001GVISJM|            4|1262044800|\n",
            "| 17|      Erica Neathery|B001GVISJM|            0|1348099200|\n",
            "| 18|               Becca|B001GVISJM|            0|1345075200|\n",
            "| 19|             Wolfee1|B001GVISJM|            0|1324598400|\n",
            "| 20|                Greg|B001GVISJM|            0|1318032000|\n",
            "+---+--------------------+----------+-------------+----------+\n",
            "only showing top 20 rows\n",
            "\n"
          ]
        }
      ]
    },
    {
      "cell_type": "code",
      "source": [
        "# Print schema\n",
        "review_id_df.printSchema()"
      ],
      "metadata": {
        "colab": {
          "base_uri": "https://localhost:8080/"
        },
        "id": "1HHWz6Krwn3t",
        "outputId": "11929d86-2a2a-4142-db5c-5b7e6cbeedbf"
      },
      "execution_count": 82,
      "outputs": [
        {
          "output_type": "stream",
          "name": "stdout",
          "text": [
            "root\n",
            " |-- Id: integer (nullable = true)\n",
            " |-- ProfileName: string (nullable = true)\n",
            " |-- ProductId: string (nullable = true)\n",
            " |-- helpful_votes: integer (nullable = true)\n",
            " |-- Time: string (nullable = true)\n",
            "\n"
          ]
        }
      ]
    },
    {
      "cell_type": "code",
      "source": [
        "# Create customer dataframe to match customers table\n",
        "from pyspark.sql.functions import desc\n",
        "\n",
        "customers_df = df.groupby(\"ProfileName\").agg({\"ProductId\":\"count\"})\n",
        "customers_df = customers_df.orderBy(desc(\"count(ProductId)\"))\n",
        "customers_df = customers_df.withColumnRenamed(\"count(ProductId)\", \"customer_count\") \n",
        "customers_df.show()"
      ],
      "metadata": {
        "colab": {
          "base_uri": "https://localhost:8080/"
        },
        "id": "7zwSNSopwrKB",
        "outputId": "d3a626b8-e175-44e7-ffad-46fbfb8b0568"
      },
      "execution_count": 83,
      "outputs": [
        {
          "output_type": "stream",
          "name": "stdout",
          "text": [
            "+--------------------+--------------+\n",
            "|         ProfileName|customer_count|\n",
            "+--------------------+--------------+\n",
            "|\"C. F. Hill \"\"CFH\"\"\"|           451|\n",
            "|\"O. Brown \"\"Ms. O...|           421|\n",
            "|       Gary Peterson|           389|\n",
            "|\"Rebecca of Amazo...|           365|\n",
            "|               Chris|           363|\n",
            "|               Linda|           290|\n",
            "|                John|           261|\n",
            "|                Mike|           260|\n",
            "|                  c2|           256|\n",
            "|               Laura|           253|\n",
            "|               Sarah|           244|\n",
            "|           Stephanie|           240|\n",
            "|               Karen|           239|\n",
            "|                Lisa|           237|\n",
            "|             Jessica|           236|\n",
            "|                 Jen|           232|\n",
            "|               Steve|           225|\n",
            "|               David|           216|\n",
            "|           Anonymous|           213|\n",
            "|                Mary|           208|\n",
            "+--------------------+--------------+\n",
            "only showing top 20 rows\n",
            "\n"
          ]
        }
      ]
    },
    {
      "cell_type": "code",
      "source": [
        "# Create product dataframe to match products table(only unique values)\n",
        "products_df = df.select([\"ProductId\",\"Summary\"])\n",
        "products_df = products_df.dropDuplicates()\n",
        "products_df.show()"
      ],
      "metadata": {
        "colab": {
          "base_uri": "https://localhost:8080/"
        },
        "id": "A3w7p6tXxnQv",
        "outputId": "6351731b-17e6-4794-fe8c-c77a42e043fa"
      },
      "execution_count": 87,
      "outputs": [
        {
          "output_type": "stream",
          "name": "stdout",
          "text": [
            "+----------+--------------------+\n",
            "| ProductId|             Summary|\n",
            "+----------+--------------------+\n",
            "|B001ELL6O8|Arrowhead Mills w...|\n",
            "|B000G6RYNE|The only thing I ...|\n",
            "|B002XG21MO|The Puppy Dogs Lo...|\n",
            "|B0028SWACS|           Delicious|\n",
            "|B000WNJ73Q|    Rich J Wyzykoski|\n",
            "|B000ODRY9I|         Its GOOD!!!|\n",
            "|B0000VLH8S|        shining star|\n",
            "|B009UOFU20|weak coffee not g...|\n",
            "|B001RVFDOO|Better than expected|\n",
            "|B004ET9OIW|Why I received on...|\n",
            "|B0000CGFV4|Nice, Big Pieces ...|\n",
            "|B000J2DQ46|              MMMMMM|\n",
            "|B0085G4ACA|The answer to all...|\n",
            "|B000LKU03G|Awesome with some...|\n",
            "|B005K4Q1VI| Sugar AND Sucralose|\n",
            "|B005K4Q1VI|          Good drink|\n",
            "|B005K4Q1VI|Tasty and Good fo...|\n",
            "|B005K4Q1VI|Great as a creame...|\n",
            "|B001QEF4XC|Excellent, health...|\n",
            "|B0045IK1CK|Taste like muddy ...|\n",
            "+----------+--------------------+\n",
            "only showing top 20 rows\n",
            "\n"
          ]
        }
      ]
    },
    {
      "cell_type": "code",
      "source": [
        "# Print schema\n",
        "review_id_df.printSchema()"
      ],
      "metadata": {
        "colab": {
          "base_uri": "https://localhost:8080/"
        },
        "id": "ZSxSljFRzdq3",
        "outputId": "bde1af62-73d1-456a-a792-e01773bf7a61"
      },
      "execution_count": 88,
      "outputs": [
        {
          "output_type": "stream",
          "name": "stdout",
          "text": [
            "root\n",
            " |-- Id: integer (nullable = true)\n",
            " |-- ProfileName: string (nullable = true)\n",
            " |-- ProductId: string (nullable = true)\n",
            " |-- helpful_votes: integer (nullable = true)\n",
            " |-- Time: string (nullable = true)\n",
            "\n"
          ]
        }
      ]
    },
    {
      "cell_type": "code",
      "source": [
        "\n",
        "# Create product dataframe to match products table(only unique values)\n",
        "products_df = df.select([\"ProductId\",\"time\"])\n",
        "products_df = products_df.dropDuplicates()\n",
        "products_df.show()"
      ],
      "metadata": {
        "colab": {
          "base_uri": "https://localhost:8080/"
        },
        "id": "M0kbqt3kzhYv",
        "outputId": "c36e7955-ac63-4948-a452-48b0733d5aff"
      },
      "execution_count": 93,
      "outputs": [
        {
          "output_type": "stream",
          "name": "stdout",
          "text": [
            "+----------+----------+\n",
            "| ProductId|      time|\n",
            "+----------+----------+\n",
            "|B001GVISJM|1304899200|\n",
            "|B000ITVLE2|1348099200|\n",
            "|B001EO5ZMO|1330819200|\n",
            "|B001UJEN6C|1322697600|\n",
            "|B002GUWBMC|1328400000|\n",
            "|B000VKYKTG|1259539200|\n",
            "|B000JWEEB0|1206748800|\n",
            "|B001CWZXIY|1310860800|\n",
            "|B001RVFDOO|1261094400|\n",
            "|B001RVFDOO|1336608000|\n",
            "|B0007T3V82|1218672000|\n",
            "|B0016D2MY2|1272153600|\n",
            "|B0001VWE0C|1127606400|\n",
            "|B0089SPDUW|1328918400|\n",
            "|B002JX7GVM|1264550400|\n",
            "|B000B9SFP2|1311206400|\n",
            "|B005K4Q1VI|1331856000|\n",
            "|B001QEF4XC|1344556800|\n",
            "|B001FZR732|1293321600|\n",
            "|B004391DK0|1335657600|\n",
            "+----------+----------+\n",
            "only showing top 20 rows\n",
            "\n"
          ]
        }
      ]
    },
    {
      "cell_type": "code",
      "source": [
        "# Configuration for RDS instance\n",
        "mode=\"append\"\n",
        "jdbc_url = \"jdbc:postgresql://<insert endpoint>:5432/bigdata\"\n",
        "config = {\"user\":\"posstgres\",\n",
        "          #\"password\": \"<insert password>\",\n",
        "          \"password\": \"posstgres\",\n",
        "          \"driver\":\"org.postgresql.Driver\"}"
      ],
      "metadata": {
        "id": "8XRqiRuj0jAw"
      },
      "execution_count": 97,
      "outputs": []
    },
    {
      "cell_type": "code",
      "source": [
        "# Write DataFrame to review_id_table table in RDS\n",
        "\n",
        "review_id_df.write.jdbc(url=jdbc_url, table='review_id_table', mode=mode, properties=config)"
      ],
      "metadata": {
        "id": "6eZ5w8PF1NiZ"
      },
      "execution_count": null,
      "outputs": []
    },
    {
      "cell_type": "code",
      "source": [
        "# Write DataFrame to products table in RDS\n",
        "\n",
        "products_df.write.jdbc(url=jdbc_url, table='products', mode=mode, properties=config)"
      ],
      "metadata": {
        "id": "OvI5mPmd1PxC"
      },
      "execution_count": null,
      "outputs": []
    },
    {
      "cell_type": "code",
      "source": [
        "# Write DataFrame to customers table in RDS\n",
        "\n",
        "customers_df.write.jdbc(url=jdbc_url, table='customers', mode=mode, properties=config)"
      ],
      "metadata": {
        "id": "qx4rXQd21SuK"
      },
      "execution_count": null,
      "outputs": []
    },
    {
      "cell_type": "code",
      "source": [
        "# Write DataFrame to vine_table table in RDS\n",
        "\n",
        "vine_table_df.write.jdbc(url=jdbc_url, table='vine_table', mode=mode, properties=config)"
      ],
      "metadata": {
        "id": "H_-PrmpW1SyJ"
      },
      "execution_count": null,
      "outputs": []
    }
  ]
}