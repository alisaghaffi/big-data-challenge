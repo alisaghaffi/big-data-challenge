{
  "nbformat": 4,
  "nbformat_minor": 0,
  "metadata": {
    "colab": {
      "name": "BigData.ipynb",
      "provenance": [],
      "collapsed_sections": [],
      "authorship_tag": "ABX9TyOxFsWQmzyF867OnFseRhg0",
      "include_colab_link": true
    },
    "kernelspec": {
      "name": "python3",
      "display_name": "Python 3"
    },
    "language_info": {
      "name": "python"
    }
  },
  "cells": [
    {
      "cell_type": "markdown",
      "metadata": {
        "id": "view-in-github",
        "colab_type": "text"
      },
      "source": [
        "<a href=\"https://colab.research.google.com/github/alisaghaffi/big-data-challenge/blob/main/BigData.ipynb\" target=\"_parent\"><img src=\"https://colab.research.google.com/assets/colab-badge.svg\" alt=\"Open In Colab\"/></a>"
      ]
    },
    {
      "cell_type": "code",
      "execution_count": 42,
      "metadata": {
        "colab": {
          "base_uri": "https://localhost:8080/"
        },
        "id": "KEwXrlOV8zy5",
        "outputId": "016baadc-bbb0-4436-9b34-ef1858576d01"
      },
      "outputs": [
        {
          "output_type": "stream",
          "name": "stdout",
          "text": [
            "\r0% [Working]\r            \rGet:1 https://cloud.r-project.org/bin/linux/ubuntu bionic-cran40/ InRelease [3,626 B]\n",
            "Ign:2 https://developer.download.nvidia.com/compute/machine-learning/repos/ubuntu1804/x86_64  InRelease\n",
            "Hit:3 https://developer.download.nvidia.com/compute/cuda/repos/ubuntu1804/x86_64  InRelease\n",
            "Hit:4 http://archive.ubuntu.com/ubuntu bionic InRelease\n",
            "Hit:5 https://developer.download.nvidia.com/compute/machine-learning/repos/ubuntu1804/x86_64  Release\n",
            "Get:6 http://archive.ubuntu.com/ubuntu bionic-updates InRelease [88.7 kB]\n",
            "Get:7 http://security.ubuntu.com/ubuntu bionic-security InRelease [88.7 kB]\n",
            "Get:8 http://archive.ubuntu.com/ubuntu bionic-backports InRelease [74.6 kB]\n",
            "Hit:9 http://ppa.launchpad.net/c2d4u.team/c2d4u4.0+/ubuntu bionic InRelease\n",
            "Hit:10 http://ppa.launchpad.net/cran/libgit2/ubuntu bionic InRelease\n",
            "Hit:11 http://ppa.launchpad.net/deadsnakes/ppa/ubuntu bionic InRelease\n",
            "Hit:13 http://ppa.launchpad.net/graphics-drivers/ppa/ubuntu bionic InRelease\n",
            "Fetched 256 kB in 3s (89.3 kB/s)\n",
            "Reading package lists... Done\n",
            "--2022-08-31 05:07:17--  https://jdbc.postgresql.org/download/postgresql-42.2.9.jar\n",
            "Resolving jdbc.postgresql.org (jdbc.postgresql.org)... 72.32.157.228, 2001:4800:3e1:1::228\n",
            "Connecting to jdbc.postgresql.org (jdbc.postgresql.org)|72.32.157.228|:443... connected.\n",
            "HTTP request sent, awaiting response... 200 OK\n",
            "Length: 914037 (893K) [application/java-archive]\n",
            "Saving to: ‘postgresql-42.2.9.jar.1’\n",
            "\n",
            "postgresql-42.2.9.j 100%[===================>] 892.61K  --.-KB/s    in 0.08s   \n",
            "\n",
            "2022-08-31 05:07:17 (10.5 MB/s) - ‘postgresql-42.2.9.jar.1’ saved [914037/914037]\n",
            "\n"
          ]
        }
      ],
      "source": [
        "# import dependencies\n",
        "import os\n",
        "spark_version = 'spark-3.1.3'\n",
        "os.environ['SPARK_VERSION']=spark_version\n",
        "\n",
        "# Install Spark and Java\n",
        "!apt-get update\n",
        "!apt-get install openjdk-11-jdk-headless -qq > /dev/null\n",
        "!wget -q https://downloads.apache.org/spark/$SPARK_VERSION/$SPARK_VERSION-bin-hadoop2.7.tgz\n",
        "!tar xf $SPARK_VERSION-bin-hadoop2.7.tgz\n",
        "!pip install -q findspark\n",
        "\n",
        "# Set Environment Variables\n",
        "import os\n",
        "os.environ[\"JAVA_HOME\"] = \"/usr/lib/jvm/java-11-openjdk-amd64\"\n",
        "os.environ[\"SPARK_HOME\"] = f\"/content/{spark_version}-bin-hadoop2.7\"\n",
        "\n",
        "# Start a SparkSession\n",
        "import findspark\n",
        "findspark.init()\n",
        "!wget https://jdbc.postgresql.org/download/postgresql-42.2.9.jar\n"
      ]
    },
    {
      "cell_type": "code",
      "source": [
        "from pyspark.sql import SparkSession\n",
        "spark = SparkSession.builder.appName(\"CloudETL\").config(\"spark.driver.extraClassPath\",\"/content/postgresql-42.2.9.jar\").getOrCreate()"
      ],
      "metadata": {
        "id": "z_ZxzyEk5lkx"
      },
      "execution_count": 43,
      "outputs": []
    },
    {
      "cell_type": "code",
      "source": [
        "from pyspark import SparkFiles\n",
        "\n",
        "url=\"https://alibigdata.s3.us-west-1.amazonaws.com/amazon_reviews_us_Furniture_v1_00.tsv.gz\"\n",
        "spark.sparkContext.addFile(url)\n",
        "df = spark.read.option(\"encoding\", \"UTF-8\")\\\n",
        "      .csv(SparkFiles.get(\"\"), sep=\"\\t\", header=True, inferSchema=True)\n",
        "df.show(10)"
      ],
      "metadata": {
        "colab": {
          "base_uri": "https://localhost:8080/"
        },
        "id": "rrMUNCblpBIa",
        "outputId": "969b9101-56e5-4331-cd5e-1fad742d5a6b"
      },
      "execution_count": 44,
      "outputs": [
        {
          "output_type": "stream",
          "name": "stdout",
          "text": [
            "+-----------+-----------+--------------+----------+--------------+--------------------+----------------+-----------+-------------+-----------+----+-----------------+--------------------+--------------------+-----------+\n",
            "|marketplace|customer_id|     review_id|product_id|product_parent|       product_title|product_category|star_rating|helpful_votes|total_votes|vine|verified_purchase|     review_headline|         review_body|review_date|\n",
            "+-----------+-----------+--------------+----------+--------------+--------------------+----------------+-----------+-------------+-----------+----+-----------------+--------------------+--------------------+-----------+\n",
            "|         US|   24509695|R3VR960AHLFKDV|B004HB5E0E|     488241329|Shoal Creek Compu...|       Furniture|          4|            0|          0|   N|                Y|... desk is very ...|This desk is very...| 2015-08-31|\n",
            "|         US|   34731776|R16LGVMFKIUT0G|B0042TNMMS|     205864445|Dorel Home Produc...|       Furniture|          5|            0|          0|   N|                Y|          Five Stars|          Great item| 2015-08-31|\n",
            "|         US|    1272331|R1AIMEEPYHMOE4|B0030MPBZ4|     124663823|Bathroom Vanity T...|       Furniture|          5|            1|          1|   N|                Y|          Five Stars|Perfect fit for m...| 2015-08-31|\n",
            "|         US|   45284262|R1892CCSZWZ9SR|B005G02ESA|     382367578|Sleep Master Ulti...|       Furniture|          3|            0|          0|   N|                Y|         Good enough|We use this on a ...| 2015-08-31|\n",
            "|         US|   30003523|R285P679YWVKD1|B005JS8AUA|     309497463|1 1/4\" GashGuards...|       Furniture|          3|            0|          0|   N|                N|Gash Gards for da...|The product is fi...| 2015-08-31|\n",
            "|         US|   18311821| RLB33HJBXHZHU|B00AVUQQGQ|     574537906|Serta Bonded Leat...|       Furniture|          5|            0|          0|   N|                Y|          Five Stars|Love this product...| 2015-08-31|\n",
            "|         US|   42943632|R1VGTZ94DBAD6A|B00CFY20GQ|     407473883|Prepac Shoe Stora...|       Furniture|          5|            2|          2|   N|                Y|   I love this bench|I love this bench...| 2015-08-31|\n",
            "|         US|   43157304|R168KF82ICSOHD|B00FKC48QA|     435120460|HomCom PU Leather...|       Furniture|          5|            0|          0|   N|                Y|Great storage cap...|Have had this for...| 2015-08-31|\n",
            "|         US|   51918480|R20DIYIJ0OCMOG|B00N9IAL9K|     356495985|  Folding Step Stool|       Furniture|          5|            0|          0|   N|                Y|This is the best ...|This is the best ...| 2015-08-31|\n",
            "|         US|   14522766| RD46RNVOHNZSC|B001T4XU1C|     243050228|Ace Bayou Adult V...|       Furniture|          5|            0|          0|   N|                Y|    great for price!|    my son loves it!| 2015-08-31|\n",
            "+-----------+-----------+--------------+----------+--------------+--------------------+----------------+-----------+-------------+-----------+----+-----------------+--------------------+--------------------+-----------+\n",
            "only showing top 10 rows\n",
            "\n"
          ]
        }
      ]
    },
    {
      "cell_type": "code",
      "source": [
        "#   * Count the number of records (rows) in the dataset.\n",
        "df.dropna()\n",
        "df.count()"
      ],
      "metadata": {
        "colab": {
          "base_uri": "https://localhost:8080/"
        },
        "id": "LMayki0ZIbkR",
        "outputId": "71aea689-c445-49f9-c306-442fa8bd886c"
      },
      "execution_count": 45,
      "outputs": [
        {
          "output_type": "execute_result",
          "data": {
            "text/plain": [
              "792113"
            ]
          },
          "metadata": {},
          "execution_count": 45
        }
      ]
    },
    {
      "cell_type": "code",
      "source": [
        "\n",
        "df.printSchema()"
      ],
      "metadata": {
        "colab": {
          "base_uri": "https://localhost:8080/"
        },
        "id": "2x41QVN_Ikik",
        "outputId": "0869a616-ac2a-4250-97af-332dfdb181f0"
      },
      "execution_count": 46,
      "outputs": [
        {
          "output_type": "stream",
          "name": "stdout",
          "text": [
            "root\n",
            " |-- marketplace: string (nullable = true)\n",
            " |-- customer_id: integer (nullable = true)\n",
            " |-- review_id: string (nullable = true)\n",
            " |-- product_id: string (nullable = true)\n",
            " |-- product_parent: integer (nullable = true)\n",
            " |-- product_title: string (nullable = true)\n",
            " |-- product_category: string (nullable = true)\n",
            " |-- star_rating: integer (nullable = true)\n",
            " |-- helpful_votes: integer (nullable = true)\n",
            " |-- total_votes: integer (nullable = true)\n",
            " |-- vine: string (nullable = true)\n",
            " |-- verified_purchase: string (nullable = true)\n",
            " |-- review_headline: string (nullable = true)\n",
            " |-- review_body: string (nullable = true)\n",
            " |-- review_date: string (nullable = true)\n",
            "\n"
          ]
        }
      ]
    },
    {
      "cell_type": "code",
      "source": [
        "#   * **Transform** the dataset to fit the tables in the [schema file](../Resources/schema.sql). \n",
        "# Be sure the DataFrames match in data type and in column name.\n",
        "schema_df = df.select([\"review_id\", \"customer_id\", \"product_id\", \"product_parent\", \"review_date\"])\n",
        "schema_df = schema_df.dropDuplicates([\"review_id\"])\n",
        "schema_df.head()"
      ],
      "metadata": {
        "colab": {
          "base_uri": "https://localhost:8080/"
        },
        "id": "vjzMQs9tsOB_",
        "outputId": "ded51dad-3897-4687-db4b-e40676fe680d"
      },
      "execution_count": 47,
      "outputs": [
        {
          "output_type": "execute_result",
          "data": {
            "text/plain": [
              "Row(review_id='R100AEJE51NBCM', customer_id=42804233, product_id='B002VFJUVC', product_parent=312378930, review_date='2012-11-21')"
            ]
          },
          "metadata": {},
          "execution_count": 47
        }
      ]
    },
    {
      "cell_type": "code",
      "source": [
        "# Changing datatypes\n",
        "# Source Link: https://stackoverflow.com/questions/32284620/how-to-change-a-dataframe-column-from-string-type-to-double-type-in-pyspark\n",
        "\n",
        "from pyspark.sql.types import TimestampType, IntegerType\n",
        "\n",
        "df = df.withColumn(\"customer_id\", df[\"customer_id\"].cast(IntegerType()))\\\n",
        "       .withColumn(\"product_parent\", df[\"product_parent\"].cast(IntegerType()))\\\n",
        "       .withColumn(\"review_date\", df[\"review_date\"].cast(TimestampType()))\\\n",
        "       .withColumn(\"star_rating\", df[\"star_rating\"].cast(IntegerType()))\\\n",
        "       .withColumn(\"helpful_votes\", df[\"helpful_votes\"].cast(IntegerType()))\\\n",
        "      .withColumn(\"total_votes\", df[\"total_votes\"].cast(IntegerType()))\\\n",
        "\n",
        "# Print schema\n",
        "df.printSchema()"
      ],
      "metadata": {
        "colab": {
          "base_uri": "https://localhost:8080/"
        },
        "id": "ESVWGIbcq7I2",
        "outputId": "329fd964-371f-4f09-9857-0b85d5cc5fc8"
      },
      "execution_count": 48,
      "outputs": [
        {
          "output_type": "stream",
          "name": "stdout",
          "text": [
            "root\n",
            " |-- marketplace: string (nullable = true)\n",
            " |-- customer_id: integer (nullable = true)\n",
            " |-- review_id: string (nullable = true)\n",
            " |-- product_id: string (nullable = true)\n",
            " |-- product_parent: integer (nullable = true)\n",
            " |-- product_title: string (nullable = true)\n",
            " |-- product_category: string (nullable = true)\n",
            " |-- star_rating: integer (nullable = true)\n",
            " |-- helpful_votes: integer (nullable = true)\n",
            " |-- total_votes: integer (nullable = true)\n",
            " |-- vine: string (nullable = true)\n",
            " |-- verified_purchase: string (nullable = true)\n",
            " |-- review_headline: string (nullable = true)\n",
            " |-- review_body: string (nullable = true)\n",
            " |-- review_date: timestamp (nullable = true)\n",
            "\n"
          ]
        }
      ]
    },
    {
      "cell_type": "code",
      "source": [
        "# Create review dataframe to match review_id_table table\n",
        "review_id_df = df.select([\"review_id\",\"customer_id\",\"product_id\", \"product_parent\",\"review_date\"])\n",
        "review_id_df.show()"
      ],
      "metadata": {
        "colab": {
          "base_uri": "https://localhost:8080/"
        },
        "id": "EzLW2Qd_rzGF",
        "outputId": "e8af6ac1-16d6-4c3f-9f7f-a6d1c5368f21"
      },
      "execution_count": 49,
      "outputs": [
        {
          "output_type": "stream",
          "name": "stdout",
          "text": [
            "+--------------+-----------+----------+--------------+-------------------+\n",
            "|     review_id|customer_id|product_id|product_parent|        review_date|\n",
            "+--------------+-----------+----------+--------------+-------------------+\n",
            "|R3VR960AHLFKDV|   24509695|B004HB5E0E|     488241329|2015-08-31 00:00:00|\n",
            "|R16LGVMFKIUT0G|   34731776|B0042TNMMS|     205864445|2015-08-31 00:00:00|\n",
            "|R1AIMEEPYHMOE4|    1272331|B0030MPBZ4|     124663823|2015-08-31 00:00:00|\n",
            "|R1892CCSZWZ9SR|   45284262|B005G02ESA|     382367578|2015-08-31 00:00:00|\n",
            "|R285P679YWVKD1|   30003523|B005JS8AUA|     309497463|2015-08-31 00:00:00|\n",
            "| RLB33HJBXHZHU|   18311821|B00AVUQQGQ|     574537906|2015-08-31 00:00:00|\n",
            "|R1VGTZ94DBAD6A|   42943632|B00CFY20GQ|     407473883|2015-08-31 00:00:00|\n",
            "|R168KF82ICSOHD|   43157304|B00FKC48QA|     435120460|2015-08-31 00:00:00|\n",
            "|R20DIYIJ0OCMOG|   51918480|B00N9IAL9K|     356495985|2015-08-31 00:00:00|\n",
            "| RD46RNVOHNZSC|   14522766|B001T4XU1C|     243050228|2015-08-31 00:00:00|\n",
            "|R2JDOCETTM3AXS|   43054112|B002HRFLBC|      93574483|2015-08-31 00:00:00|\n",
            "|R33YMW36IDZ6LE|   26622950|B006MISZOC|     941823468|2015-08-31 00:00:00|\n",
            "|R30ZGGUHZ04C1S|   17988940|B008BMGABC|     460567746|2015-08-31 00:00:00|\n",
            "| RS2EZU76IK2BT|   18444952|B00CO2VH5Y|     829613894|2015-08-31 00:00:00|\n",
            "|R1GJC1BP028XO9|   16937084|B00LI4RJQ0|     816478187|2015-08-31 00:00:00|\n",
            "|R2VKJPGXXEK5GP|   23665632|B0046EC1D0|     358594389|2015-08-31 00:00:00|\n",
            "|R17KS83G3KLT97|    4110125|B00DQQPL36|     312571325|2015-08-31 00:00:00|\n",
            "|R3PQL8SR4NEHWL|     107621|B003X7RWB2|     402665054|2015-08-31 00:00:00|\n",
            "|R2F5WW7WNO5RRG|    2415090|B001TJYPJ8|     854989315|2015-08-31 00:00:00|\n",
            "|R3UDJKVWQCFIC9|   48285966|B000TMHX9A|     814079288|2015-08-31 00:00:00|\n",
            "+--------------+-----------+----------+--------------+-------------------+\n",
            "only showing top 20 rows\n",
            "\n"
          ]
        }
      ]
    },
    {
      "cell_type": "code",
      "source": [
        "# Print schema\n",
        "review_id_df.printSchema()"
      ],
      "metadata": {
        "colab": {
          "base_uri": "https://localhost:8080/"
        },
        "id": "1HHWz6Krwn3t",
        "outputId": "5a496d82-95d0-4d18-e535-8605b78abac1"
      },
      "execution_count": 50,
      "outputs": [
        {
          "output_type": "stream",
          "name": "stdout",
          "text": [
            "root\n",
            " |-- review_id: string (nullable = true)\n",
            " |-- customer_id: integer (nullable = true)\n",
            " |-- product_id: string (nullable = true)\n",
            " |-- product_parent: integer (nullable = true)\n",
            " |-- review_date: timestamp (nullable = true)\n",
            "\n"
          ]
        }
      ]
    },
    {
      "cell_type": "code",
      "source": [
        "# Create customer dataframe to match customers table\n",
        "from pyspark.sql.functions import desc\n",
        "\n",
        "customers_df = df.groupby(\"customer_id\").agg({\"customer_id\":\"count\"})\n",
        "customers_df = customers_df.orderBy(desc(\"count(customer_id)\"))\n",
        "customers_df = customers_df.withColumnRenamed(\"count(customer_id)\", \"customer_count\") \n",
        "customers_df.show()"
      ],
      "metadata": {
        "colab": {
          "base_uri": "https://localhost:8080/"
        },
        "id": "7zwSNSopwrKB",
        "outputId": "cdfcfb58-4049-4a16-c4f1-6d3a81b03ddb"
      },
      "execution_count": 51,
      "outputs": [
        {
          "output_type": "stream",
          "name": "stdout",
          "text": [
            "+-----------+--------------+\n",
            "|customer_id|customer_count|\n",
            "+-----------+--------------+\n",
            "|   37141039|           142|\n",
            "|   32405532|            71|\n",
            "|   52277880|            44|\n",
            "|   45212655|            33|\n",
            "|   21957586|            33|\n",
            "|   35178127|            28|\n",
            "|   36700743|            27|\n",
            "|   20845991|            25|\n",
            "|   12609448|            25|\n",
            "|   36020793|            25|\n",
            "|   31511151|            22|\n",
            "|   13278937|            22|\n",
            "|   40418760|            22|\n",
            "|   49465759|            22|\n",
            "|   27393836|            21|\n",
            "|   18469006|            21|\n",
            "|   32479799|            21|\n",
            "|   21155796|            21|\n",
            "|   45889291|            20|\n",
            "|   51672584|            20|\n",
            "+-----------+--------------+\n",
            "only showing top 20 rows\n",
            "\n"
          ]
        }
      ]
    },
    {
      "cell_type": "code",
      "source": [
        "# Create product dataframe to match products table(only unique values)\n",
        "products_df = df.select([\"product_id\",\"product_title\"])\n",
        "products_df = products_df.dropDuplicates()\n",
        "products_df.show()"
      ],
      "metadata": {
        "colab": {
          "base_uri": "https://localhost:8080/"
        },
        "id": "A3w7p6tXxnQv",
        "outputId": "2e8c2412-bd88-434c-8273-eaeb83687a94"
      },
      "execution_count": 52,
      "outputs": [
        {
          "output_type": "stream",
          "name": "stdout",
          "text": [
            "+----------+--------------------+\n",
            "|product_id|       product_title|\n",
            "+----------+--------------------+\n",
            "|B0049H81OM|Fun Rugs Surf Tim...|\n",
            "|B001U0UOO6|Furniture Repair Set|\n",
            "|B0076I51JE|Traditional Opera...|\n",
            "|B007OWPBGU|Frenchi Home Furn...|\n",
            "|B00DHWGB4M|Circle Design Sid...|\n",
            "|B00RI6TNJ8|Abrahami Hariz Bu...|\n",
            "|B00GHZA29Q|nuLOOM Varanas Co...|\n",
            "|B00GSIIGQS|Milton Greens Sta...|\n",
            "|B00VZ4RY1I|Dean Shifting San...|\n",
            "|B007QUM5DM| Charles Petite Sofa|\n",
            "|B00MN6NTDO|Safavieh Adironda...|\n",
            "|B00BK31LDQ|Glass Computer De...|\n",
            "|B0091SXURW|Altra Parsons Des...|\n",
            "|B00TBVK0Y0|Best Price Mattre...|\n",
            "|B00A2XM5QC|Legacy Decor Shoj...|\n",
            "|B002KE7HTQ|Home Styles 5001-...|\n",
            "|B00V3LVD2O|Roundhill Furnitu...|\n",
            "|B00PN9YSAG|Baxton Studio Hir...|\n",
            "|B005VAFFN6|Duro Hanley Silve...|\n",
            "|B001BX1JSC|Flash Furniture V...|\n",
            "+----------+--------------------+\n",
            "only showing top 20 rows\n",
            "\n"
          ]
        }
      ]
    },
    {
      "cell_type": "code",
      "source": [
        "from pyspark.sql.functions import to_date\n",
        "\n",
        "# Create the review_id_table DataFrame.\n",
        "# Convert the 'review_date' column to a date datatype with\n",
        "# to_date(\"review_date\", 'yyyy-MM-dd').alias(\"review_date\")\n",
        "review_id_df = df.select(\n",
        "                  [\n",
        "                    'review_id',\n",
        "                    'customer_id',\n",
        "                    'product_id',\n",
        "                    'product_parent',\n",
        "                    to_date(\"review_date\", 'yyyy-MM-dd').alias(\"review_date\")\n",
        "                  ]\n",
        "                )\n",
        "review_id_df.show(10)"
      ],
      "metadata": {
        "colab": {
          "base_uri": "https://localhost:8080/"
        },
        "id": "Xb7Sv-XBvw55",
        "outputId": "d3a3f06d-f185-46d6-9dbe-1aa33dd17574"
      },
      "execution_count": 53,
      "outputs": [
        {
          "output_type": "stream",
          "name": "stdout",
          "text": [
            "+--------------+-----------+----------+--------------+-----------+\n",
            "|     review_id|customer_id|product_id|product_parent|review_date|\n",
            "+--------------+-----------+----------+--------------+-----------+\n",
            "|R3VR960AHLFKDV|   24509695|B004HB5E0E|     488241329| 2015-08-31|\n",
            "|R16LGVMFKIUT0G|   34731776|B0042TNMMS|     205864445| 2015-08-31|\n",
            "|R1AIMEEPYHMOE4|    1272331|B0030MPBZ4|     124663823| 2015-08-31|\n",
            "|R1892CCSZWZ9SR|   45284262|B005G02ESA|     382367578| 2015-08-31|\n",
            "|R285P679YWVKD1|   30003523|B005JS8AUA|     309497463| 2015-08-31|\n",
            "| RLB33HJBXHZHU|   18311821|B00AVUQQGQ|     574537906| 2015-08-31|\n",
            "|R1VGTZ94DBAD6A|   42943632|B00CFY20GQ|     407473883| 2015-08-31|\n",
            "|R168KF82ICSOHD|   43157304|B00FKC48QA|     435120460| 2015-08-31|\n",
            "|R20DIYIJ0OCMOG|   51918480|B00N9IAL9K|     356495985| 2015-08-31|\n",
            "| RD46RNVOHNZSC|   14522766|B001T4XU1C|     243050228| 2015-08-31|\n",
            "+--------------+-----------+----------+--------------+-----------+\n",
            "only showing top 10 rows\n",
            "\n"
          ]
        }
      ]
    },
    {
      "cell_type": "code",
      "source": [
        "# Create the vine_table. DataFrame\n",
        "vine_df = df.select(['review_id', 'star_rating', 'helpful_votes', 'total_votes', 'vine', 'verified_purchase'])\n",
        "vine_df.show(10)"
      ],
      "metadata": {
        "colab": {
          "base_uri": "https://localhost:8080/"
        },
        "id": "Q3dTqEJ1v5nO",
        "outputId": "3dda8e7d-aea8-4ac3-a097-c7c0fb18cc70"
      },
      "execution_count": 54,
      "outputs": [
        {
          "output_type": "stream",
          "name": "stdout",
          "text": [
            "+--------------+-----------+-------------+-----------+----+-----------------+\n",
            "|     review_id|star_rating|helpful_votes|total_votes|vine|verified_purchase|\n",
            "+--------------+-----------+-------------+-----------+----+-----------------+\n",
            "|R3VR960AHLFKDV|          4|            0|          0|   N|                Y|\n",
            "|R16LGVMFKIUT0G|          5|            0|          0|   N|                Y|\n",
            "|R1AIMEEPYHMOE4|          5|            1|          1|   N|                Y|\n",
            "|R1892CCSZWZ9SR|          3|            0|          0|   N|                Y|\n",
            "|R285P679YWVKD1|          3|            0|          0|   N|                N|\n",
            "| RLB33HJBXHZHU|          5|            0|          0|   N|                Y|\n",
            "|R1VGTZ94DBAD6A|          5|            2|          2|   N|                Y|\n",
            "|R168KF82ICSOHD|          5|            0|          0|   N|                Y|\n",
            "|R20DIYIJ0OCMOG|          5|            0|          0|   N|                Y|\n",
            "| RD46RNVOHNZSC|          5|            0|          0|   N|                Y|\n",
            "+--------------+-----------+-------------+-----------+----+-----------------+\n",
            "only showing top 10 rows\n",
            "\n"
          ]
        }
      ]
    },
    {
      "cell_type": "code",
      "source": [
        "# Print schema\n",
        "review_id_df.printSchema()"
      ],
      "metadata": {
        "colab": {
          "base_uri": "https://localhost:8080/"
        },
        "id": "ZSxSljFRzdq3",
        "outputId": "259d58d4-d6ab-4fd0-d57f-70960284cee8"
      },
      "execution_count": 55,
      "outputs": [
        {
          "output_type": "stream",
          "name": "stdout",
          "text": [
            "root\n",
            " |-- review_id: string (nullable = true)\n",
            " |-- customer_id: integer (nullable = true)\n",
            " |-- product_id: string (nullable = true)\n",
            " |-- product_parent: integer (nullable = true)\n",
            " |-- review_date: date (nullable = true)\n",
            "\n"
          ]
        }
      ]
    },
    {
      "cell_type": "code",
      "source": [
        "# Configure settings for RDS\n",
        "from getpass import getpass\n",
        "password = getpass('Enter database password')\n",
        "\n",
        "mode = \"append\"\n",
        "\n",
        "#jdbc:postgresql://endpoint:port/database\n",
        "jdbc_url=\"jdbc:postgresql://<*****endpoint*****>.us-west-1.rds.amazonaws.com:5432/bigdata_db\"\n",
        "\n",
        "config = {\"user\":\"postgres\",\n",
        "          \"password\": password,\n",
        "          \n",
        "          \"driver\":\"org.postgresql.Driver\"}"
      ],
      "metadata": {
        "id": "8XRqiRuj0jAw",
        "colab": {
          "base_uri": "https://localhost:8080/"
        },
        "outputId": "b06f0d38-e008-4684-d28f-af1250ff0dfa"
      },
      "execution_count": 84,
      "outputs": [
        {
          "name": "stdout",
          "output_type": "stream",
          "text": [
            "Enter database password··········\n"
          ]
        }
      ]
    },
    {
      "cell_type": "code",
      "source": [
        "# Write review_id_df to table in RDS\n",
        "# This operation took 2m 10s for 'Furniture' category\n",
        "review_id_df.write.jdbc(url=jdbc_url, table='review_id_table', mode=mode, properties=config)"
      ],
      "metadata": {
        "id": "Cu3gnmH1vJxA"
      },
      "execution_count": 85,
      "outputs": []
    },
    {
      "cell_type": "code",
      "source": [
        "# Write DataFrame to products table in RDS\n",
        "\n",
        "products_df.write.jdbc(url=jdbc_url, table='products_table', mode=mode, properties=config)"
      ],
      "metadata": {
        "id": "OvI5mPmd1PxC"
      },
      "execution_count": 90,
      "outputs": []
    },
    {
      "cell_type": "code",
      "source": [
        "# Write DataFrame to customers table in RDS\n",
        "\n",
        "customers_df.write.jdbc(url=jdbc_url, table='customers_table', mode=mode, properties=config)"
      ],
      "metadata": {
        "id": "qx4rXQd21SuK"
      },
      "execution_count": 91,
      "outputs": []
    },
    {
      "cell_type": "code",
      "source": [
        "# Write DataFrame to vine_table table in RDS\n",
        "\n",
        "vine_df.write.jdbc(url=jdbc_url, table='vine_table', mode=mode, properties=config)"
      ],
      "metadata": {
        "id": "H_-PrmpW1SyJ"
      },
      "execution_count": 93,
      "outputs": []
    }
  ]
}
